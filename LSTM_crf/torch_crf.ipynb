{
 "cells": [
  {
   "cell_type": "markdown",
   "metadata": {},
   "source": [
    "## Bi-LSTM Conditional Random Field Discussion\n",
    "- https://pytorch.org/tutorials/beginner/nlp/advanced_tutorial.html\n",
    "- https://pytorch.apachecn.org/docs/0.3/nlp_advanced_tutorial.html\n",
    "- 《Log-Linear Models, MEMMs, and CRFs》"
   ]
  },
  {
   "cell_type": "code",
   "execution_count": 1,
   "metadata": {},
   "outputs": [],
   "source": [
    "import torch\n",
    "import torch.autograd as autograd\n",
    "import torch.nn as nn\n",
    "import torch.optim as optim"
   ]
  },
  {
   "cell_type": "code",
   "execution_count": 2,
   "metadata": {},
   "outputs": [
    {
     "data": {
      "text/plain": [
       "<torch._C.Generator at 0x7f05500945d0>"
      ]
     },
     "execution_count": 2,
     "metadata": {},
     "output_type": "execute_result"
    }
   ],
   "source": [
    "torch.manual_seed(1)"
   ]
  },
  {
   "cell_type": "code",
   "execution_count": 3,
   "metadata": {},
   "outputs": [],
   "source": [
    "def argmax(vec):\n",
    "    # 返回最大概率对应的类别\n",
    "    _, idx = torch.max(vec, 1)\n",
    "    return idx.item()\n",
    "\n",
    "\n",
    "def prepare_sequence(seq, to_ix):\n",
    "    idxs = [to_ix[w] for w in seq]\n",
    "    return torch.tensor(idxs, dtype=torch.long)\n",
    "\n",
    "\n",
    "# 使用数值上稳定的方法为前向算法计算指数和的对数\n",
    "def log_sum_exp(vec):\n",
    "    max_score = vec[0, argmax(vec)]\n",
    "    max_score_broadcast = max_score.view(1, -1).expand(1, vec.size()[1])\n",
    "    return max_score + \\\n",
    "        torch.log(torch.sum(torch.exp(vec - max_score_broadcast)))\n"
   ]
  },
  {
   "cell_type": "code",
   "execution_count": 23,
   "metadata": {},
   "outputs": [],
   "source": [
    "class BiLSTM_CRF(nn.Module):\n",
    "\n",
    "    def __init__(self, vocab_size, tag_to_ix, embedding_dim, hidden_dim):\n",
    "        super(BiLSTM_CRF, self).__init__()\n",
    "        self.embedding_dim = embedding_dim\n",
    "        self.hidden_dim = hidden_dim\n",
    "        self.vocab_size = vocab_size\n",
    "        self.tag_to_ix = tag_to_ix\n",
    "        self.tagset_size = len(tag_to_ix)\n",
    "\n",
    "        self.word_embeds = nn.Embedding(vocab_size, embedding_dim)\n",
    "        self.lstm = nn.LSTM(embedding_dim, hidden_dim // 2,\n",
    "                            num_layers=1, bidirectional=True)\n",
    "\n",
    "        # 将LSTM的输出映射到标记空间\n",
    "        self.hidden2tag = nn.Linear(hidden_dim, self.tagset_size)\n",
    "\n",
    "        # 过渡参数矩阵. 条目 i,j 是 *从* j *到* i 的过渡的分数\n",
    "        self.transitions = nn.Parameter(\n",
    "            torch.randn(self.tagset_size, self.tagset_size))\n",
    "        \n",
    "        print(\"self.transitions:\", self.transitions)\n",
    "        \n",
    "        # 这两句声明强制约束了我们不能向开始标记标注传递和从结束标注传递\n",
    "        self.transitions.data[tag_to_ix[START_TAG], :] = -10000\n",
    "        self.transitions.data[:, tag_to_ix[STOP_TAG]] = -10000\n",
    "        print(\"self.transitions ------>:\", self.transitions)\n",
    "        self.hidden = self.init_hidden()\n",
    "\n",
    "    def init_hidden(self):\n",
    "        return (torch.randn(2, 1, self.hidden_dim // 2),\n",
    "                torch.randn(2, 1, self.hidden_dim // 2))\n",
    "\n",
    "    def _forward_alg(self, feats):\n",
    "        # 2  feats (seq, tag_nums)\n",
    "        # 执行前向算法来计算分割函数\n",
    "        init_alphas = torch.full((1, self.tagset_size), -10000.)\n",
    "        print(\"init_alphas:\", init_alphas)\n",
    "        # START_TAG 包含所有的分数\n",
    "        init_alphas[0][self.tag_to_ix[START_TAG]] = 0.\n",
    "\n",
    "        # 将其包在一个变量类型中继而得到自动的反向传播\n",
    "        forward_var = init_alphas\n",
    "\n",
    "        # 在句子中迭代\n",
    "        # 第一个词的(1, score)\n",
    "        for feat in feats:\n",
    "            alphas_t = []  # 当前时间步的前向变量\n",
    "            for next_tag in range(self.tagset_size):\n",
    "                # 对 emission 得分执行广播机制: 它总是相同的,\n",
    "                # 不论前一个标注如何\n",
    "                emit_score = feat[next_tag].view(1, -1).expand(1, self.tagset_size)\n",
    "                # trans_score 第 i 个条目是从i过渡到 next_tag 的分数\n",
    "                trans_score = self.transitions[next_tag].view(1, -1)\n",
    "                # next_tag_var 第 i 个条目是在我们执行 对数-求和-指数 前\n",
    "                # 边缘的值 (i -> next_tag)\n",
    "                next_tag_var = forward_var + trans_score + emit_score\n",
    "                # 这个标注的前向变量是对所有的分数执行 对数-求和-指数\n",
    "                alphas_t.append(log_sum_exp(next_tag_var).view(1))\n",
    "            forward_var = torch.cat(alphas_t).view(1, -1)\n",
    "        terminal_var = forward_var + self.transitions[self.tag_to_ix[STOP_TAG]]\n",
    "        alpha = log_sum_exp(terminal_var)\n",
    "        return alpha\n",
    "\n",
    "    def _get_lstm_features(self, sentence):\n",
    "        # 1\n",
    "        self.hidden = self.init_hidden()\n",
    "        embeds = self.word_embeds(sentence).view(len(sentence), 1, -1)\n",
    "        # (batch_size, seq_len, hidden_dim//2*2)\n",
    "        lstm_out, self.hidden = self.lstm(embeds, self.hidden)\n",
    "        # 去掉中间的\n",
    "        print(\"lstm_out:\", lstm_out.size())\n",
    "        lstm_out = lstm_out.view(len(sentence), self.hidden_dim)\n",
    "        lstm_feats = self.hidden2tag(lstm_out)\n",
    "        print(\"lstm_feats:\", lstm_feats.size())\n",
    "        # (seq, tag_nums)\n",
    "        return lstm_feats\n",
    "\n",
    "    def _score_sentence(self, feats, tags):\n",
    "        # 给出标记序列的分数\n",
    "        score = torch.zeros(1)\n",
    "        tags = torch.cat([torch.tensor([self.tag_to_ix[START_TAG]], dtype=torch.long), tags])\n",
    "        for i, feat in enumerate(feats):\n",
    "            score = score + \\\n",
    "                self.transitions[tags[i + 1], tags[i]] + feat[tags[i + 1]]\n",
    "        score = score + self.transitions[self.tag_to_ix[STOP_TAG], tags[-1]]\n",
    "        return score\n",
    "\n",
    "    def _viterbi_decode(self, feats):\n",
    "        backpointers = []\n",
    "\n",
    "        # 在对数空间中初始化维特比变量\n",
    "        init_vvars = torch.full((1, self.tagset_size), -10000.)\n",
    "        init_vvars[0][self.tag_to_ix[START_TAG]] = 0\n",
    "\n",
    "        # 在第 i 步的 forward_var 存放第 i-1 步的维特比变量\n",
    "        forward_var = init_vvars\n",
    "        for feat in feats:\n",
    "            bptrs_t = []        # 存放这一步的后指针\n",
    "            viterbivars_t = []  # 存放这一步的维特比变量\n",
    "\n",
    "            for next_tag in range(self.tagset_size):\n",
    "                # next_tag_var[i] 存放先前一步标注i的\n",
    "                # 维特比变量, 加上了从标注 i 到 next_tag 的过渡的分数\n",
    "                # 我们在这里并没有将 emission 分数包含进来, 因为\n",
    "                # 最大值并不依赖于它们(我们在下面对它们进行的是相加)\n",
    "                next_tag_var = forward_var + self.transitions[next_tag]\n",
    "                best_tag_id = argmax(next_tag_var)\n",
    "                bptrs_t.append(best_tag_id)\n",
    "                viterbivars_t.append(next_tag_var[0][best_tag_id].view(1))\n",
    "            # 现在将所有 emission 得分相加, 将 forward_var\n",
    "            # 赋值到我们刚刚计算出来的维特比变量集合\n",
    "            forward_var = (torch.cat(viterbivars_t) + feat).view(1, -1)\n",
    "            backpointers.append(bptrs_t)\n",
    "\n",
    "        # 过渡到 STOP_TAG\n",
    "        terminal_var = forward_var + self.transitions[self.tag_to_ix[STOP_TAG]]\n",
    "        best_tag_id = argmax(terminal_var)\n",
    "        path_score = terminal_var[0][best_tag_id]\n",
    "\n",
    "        # 跟着后指针去解码最佳路径\n",
    "        best_path = [best_tag_id]\n",
    "        for bptrs_t in reversed(backpointers):\n",
    "            best_tag_id = bptrs_t[best_tag_id]\n",
    "            best_path.append(best_tag_id)\n",
    "        # 弹出开始的标签 (我们并不希望把这个返回到调用函数)\n",
    "        start = best_path.pop()\n",
    "        assert start == self.tag_to_ix[START_TAG]  # 健全性检查\n",
    "        best_path.reverse()\n",
    "        return path_score, best_path\n",
    "\n",
    "    def neg_log_likelihood(self, sentence, tags):\n",
    "        feats = self._get_lstm_features(sentence)\n",
    "        print(\"feats:\", feats)\n",
    "        forward_score = self._forward_alg(feats)\n",
    "        gold_score = self._score_sentence(feats, tags)\n",
    "        return forward_score - gold_score\n",
    "\n",
    "    def forward(self, sentence):  # 不要把这和上面的 _forward_alg 混淆\n",
    "        # 得到 BiLSTM 输出分数\n",
    "        lstm_feats = self._get_lstm_features(sentence)\n",
    "\n",
    "        # 给定特征, 找到最好的路径\n",
    "        score, tag_seq = self._viterbi_decode(lstm_feats)\n",
    "        return score, tag_seq"
   ]
  },
  {
   "cell_type": "code",
   "execution_count": 24,
   "metadata": {},
   "outputs": [],
   "source": [
    "START_TAG = \"<START>\"\n",
    "STOP_TAG = \"<STOP>\"\n",
    "EMBEDDING_DIM = 5\n",
    "HIDDEN_DIM = 4\n",
    "\n",
    "# 制造训练数据\n",
    "training_data = [(\n",
    "    \"长 城 位 于 北 京 市 延 庆 县\".split(),\n",
    "    \"B I O O B I I B I I\".split()\n",
    "), (\n",
    "    \"中 国 最 好 的 大 学 是 清 华 大 学\".split(),\n",
    "    \"B I O O O B I O B I I I\".split()\n",
    ")]\n",
    "\n",
    "\n",
    "word_to_ix = {}\n",
    "for sentence, tags in training_data:\n",
    "    for word in sentence:\n",
    "        if word not in word_to_ix:\n",
    "            word_to_ix[word] = len(word_to_ix)\n",
    "\n",
    "tag_to_ix = {\"B\": 0, \"I\": 1, \"O\": 2, START_TAG: 3, STOP_TAG: 4}"
   ]
  },
  {
   "cell_type": "code",
   "execution_count": 25,
   "metadata": {},
   "outputs": [
    {
     "name": "stdout",
     "output_type": "stream",
     "text": [
      "{'长': 0, '城': 1, '位': 2, '于': 3, '北': 4, '京': 5, '市': 6, '延': 7, '庆': 8, '县': 9, '中': 10, '国': 11, '最': 12, '好': 13, '的': 14, '大': 15, '学': 16, '是': 17, '清': 18, '华': 19}\n"
     ]
    }
   ],
   "source": [
    "print(word_to_ix)"
   ]
  },
  {
   "cell_type": "code",
   "execution_count": 26,
   "metadata": {},
   "outputs": [
    {
     "name": "stdout",
     "output_type": "stream",
     "text": [
      "self.transitions: Parameter containing:\n",
      "tensor([[ 0.2528, -1.2716, -0.7777, -0.3324, -0.1403],\n",
      "        [-1.0975, -0.7812,  0.2453, -0.6474, -0.3377],\n",
      "        [-0.6468, -0.5171,  0.3065, -0.9096,  1.3925],\n",
      "        [ 0.6282,  0.0913,  1.3686, -1.6435,  0.5123],\n",
      "        [-0.1620,  0.5743,  0.4346,  0.9302, -0.7140]], requires_grad=True)\n",
      "self.transitions ------>: Parameter containing:\n",
      "tensor([[ 2.5280e-01, -1.2716e+00, -7.7772e-01, -3.3236e-01, -1.0000e+04],\n",
      "        [-1.0975e+00, -7.8125e-01,  2.4528e-01, -6.4736e-01, -1.0000e+04],\n",
      "        [-6.4685e-01, -5.1715e-01,  3.0654e-01, -9.0956e-01, -1.0000e+04],\n",
      "        [-1.0000e+04, -1.0000e+04, -1.0000e+04, -1.0000e+04, -1.0000e+04],\n",
      "        [-1.6203e-01,  5.7434e-01,  4.3463e-01,  9.3018e-01, -1.0000e+04]],\n",
      "       requires_grad=True)\n"
     ]
    }
   ],
   "source": [
    "model = BiLSTM_CRF(len(word_to_ix), tag_to_ix, EMBEDDING_DIM, HIDDEN_DIM)\n",
    "optimizer = optim.SGD(model.parameters(), lr=0.01, weight_decay=1e-4)"
   ]
  },
  {
   "cell_type": "code",
   "execution_count": 27,
   "metadata": {},
   "outputs": [
    {
     "name": "stdout",
     "output_type": "stream",
     "text": [
      "lstm_out: torch.Size([10, 1, 4])\n",
      "lstm_feats: torch.Size([10, 5])\n",
      "训练前： ['长', '城', '位', '于', '北', '京', '市', '延', '庆', '县'] (tensor(6.2721), [0, 0, 0, 0, 0, 0, 0, 0, 0, 0])\n",
      "tensor([0, 1, 2, 3, 4, 5, 6, 7, 8, 9])\n",
      "lstm_out: torch.Size([10, 1, 4])\n",
      "lstm_feats: torch.Size([10, 5])\n",
      "feats: tensor([[ 0.4351,  0.1619, -0.4321, -0.3444, -0.2586],\n",
      "        [ 0.3793,  0.1384, -0.4004, -0.3314, -0.2840],\n",
      "        [ 0.4419,  0.1694, -0.2491, -0.4452, -0.2906],\n",
      "        [ 0.4314,  0.1426, -0.4533, -0.3891, -0.2469],\n",
      "        [ 0.5173,  0.1835, -0.3040, -0.5167, -0.2573],\n",
      "        [ 0.5301,  0.2051, -0.3536, -0.4381, -0.2521],\n",
      "        [ 0.4356,  0.1780, -0.2535, -0.4016, -0.3052],\n",
      "        [ 0.4490,  0.2170, -0.0948, -0.3929, -0.3399],\n",
      "        [ 0.3515,  0.1266, -0.3488, -0.3474, -0.3028],\n",
      "        [ 0.2633,  0.1206, -0.3657, -0.1800, -0.3492]],\n",
      "       grad_fn=<AddmmBackward>)\n",
      "init_alphas: tensor([[-10000., -10000., -10000., -10000., -10000.]])\n",
      "loss: tensor([14.5125], grad_fn=<SubBackward0>)\n",
      "lstm_out: torch.Size([10, 1, 4])\n",
      "lstm_feats: torch.Size([10, 5])\n",
      "训练后： ['长', '城', '位', '于', '北', '京', '市', '延', '庆', '县'] (tensor(6.6435), [0, 0, 0, 0, 0, 0, 0, 0, 0, 0])\n"
     ]
    }
   ],
   "source": [
    "# 训练前检查预测结果\n",
    "with torch.no_grad():\n",
    "    precheck_sent = prepare_sequence(training_data[0][0], word_to_ix)\n",
    "    precheck_tags = torch.tensor([tag_to_ix[t] for t in training_data[0][1]], dtype=torch.long)\n",
    "    print(\"训练前：\", training_data[0][0], model(precheck_sent))\n",
    "\n",
    "\n",
    "# 通常不会训这么多epochs， 这是demo数据\n",
    "# for epoch in range(300):  \n",
    "for sentence, tags in training_data:\n",
    "    # 第一步: 需要记住的是Pytorch会累积梯度\n",
    "    # 我们需要在每次实例之前把它们清除\n",
    "    # ['the', 'wall', 'street', 'journal', 'reported', 'today', 'that', 'apple', 'corporation', 'made', 'money'] \n",
    "    # ['B', 'I', 'I', 'I', 'O', 'O', 'O', 'B', 'I', 'O', 'O']\n",
    "    model.zero_grad()\n",
    "\n",
    "    # 第二步: 为我们的网络准备好输入, 即把它们转变成单词索引变量 (Variables)\n",
    "    sentence_in = prepare_sequence(sentence, word_to_ix)\n",
    "    targets = torch.tensor([tag_to_ix[t] for t in tags], dtype=torch.long)\n",
    "    print(sentence_in)\n",
    "    # 第三步: 运行前向传递\n",
    "    # 负对数似然\n",
    "    loss = model.neg_log_likelihood(sentence_in, targets)\n",
    "    print(\"loss:\", loss)\n",
    "    break\n",
    "    # 第四步: 计算损失, 梯度以及使用 optimizer.step() 来更新参数\n",
    "    loss.backward()\n",
    "    optimizer.step()\n",
    "\n",
    "# 在训练之后检查预测结果\n",
    "with torch.no_grad():\n",
    "    precheck_sent = prepare_sequence(training_data[0][0], word_to_ix)\n",
    "    print(\"训练后：\", training_data[0][0], model(precheck_sent))"
   ]
  },
  {
   "cell_type": "code",
   "execution_count": 54,
   "metadata": {},
   "outputs": [
    {
     "data": {
      "text/plain": [
       "tensor([[[-0.0113, -0.7870,  0.2859,  0.1316],\n",
       "         [ 0.3836,  0.9128, -0.0574, -0.8265],\n",
       "         [ 1.2969, -1.2505, -1.3298,  1.0798]],\n",
       "\n",
       "        [[ 1.0392,  0.9488, -1.0884,  0.2345],\n",
       "         [ 0.6809,  0.6784, -0.4275, -1.6360],\n",
       "         [ 1.2037, -1.0499, -0.3183, -0.5891]]])"
      ]
     },
     "execution_count": 54,
     "metadata": {},
     "output_type": "execute_result"
    }
   ],
   "source": [
    "x = torch.randn(2, 3, 4)\n",
    "x"
   ]
  },
  {
   "cell_type": "code",
   "execution_count": 26,
   "metadata": {},
   "outputs": [],
   "source": [
    "_, y = torch.max(x, 1)"
   ]
  },
  {
   "cell_type": "code",
   "execution_count": 27,
   "metadata": {},
   "outputs": [
    {
     "data": {
      "text/plain": [
       "tensor([[0, 1, 1, 0],\n",
       "        [2, 0, 0, 1]])"
      ]
     },
     "execution_count": 27,
     "metadata": {},
     "output_type": "execute_result"
    }
   ],
   "source": [
    "y"
   ]
  },
  {
   "cell_type": "code",
   "execution_count": 30,
   "metadata": {},
   "outputs": [
    {
     "ename": "RuntimeError",
     "evalue": "The expanded size of the tensor (3) must match the existing size (32) at non-singleton dimension 1.  Target sizes: [1, 3].  Tensor sizes: [1, 32]",
     "output_type": "error",
     "traceback": [
      "\u001b[0;31m---------------------------------------------------------------------------\u001b[0m",
      "\u001b[0;31mRuntimeError\u001b[0m                              Traceback (most recent call last)",
      "\u001b[0;32m<ipython-input-30-7e48ce564efd>\u001b[0m in \u001b[0;36m<module>\u001b[0;34m\u001b[0m\n\u001b[0;32m----> 1\u001b[0;31m \u001b[0mx\u001b[0m\u001b[0;34m[\u001b[0m\u001b[0;36m0\u001b[0m\u001b[0;34m,\u001b[0m \u001b[0my\u001b[0m\u001b[0;34m]\u001b[0m\u001b[0;34m.\u001b[0m\u001b[0mview\u001b[0m\u001b[0;34m(\u001b[0m\u001b[0;36m1\u001b[0m\u001b[0;34m,\u001b[0m \u001b[0;34m-\u001b[0m\u001b[0;36m1\u001b[0m\u001b[0;34m)\u001b[0m\u001b[0;34m.\u001b[0m\u001b[0mexpand\u001b[0m\u001b[0;34m(\u001b[0m\u001b[0;36m1\u001b[0m\u001b[0;34m,\u001b[0m \u001b[0mx\u001b[0m\u001b[0;34m.\u001b[0m\u001b[0msize\u001b[0m\u001b[0;34m(\u001b[0m\u001b[0;34m)\u001b[0m\u001b[0;34m[\u001b[0m\u001b[0;36m1\u001b[0m\u001b[0;34m]\u001b[0m\u001b[0;34m)\u001b[0m\u001b[0;34m\u001b[0m\u001b[0;34m\u001b[0m\u001b[0m\n\u001b[0m",
      "\u001b[0;31mRuntimeError\u001b[0m: The expanded size of the tensor (3) must match the existing size (32) at non-singleton dimension 1.  Target sizes: [1, 3].  Tensor sizes: [1, 32]"
     ]
    }
   ],
   "source": [
    "x[0, y].view(1, -1).expand(1, x.size()[1])"
   ]
  },
  {
   "cell_type": "code",
   "execution_count": 31,
   "metadata": {},
   "outputs": [
    {
     "name": "stdout",
     "output_type": "stream",
     "text": [
      "self.transitions: Parameter containing:\n",
      "tensor([[-2.0531,  0.1550, -0.7984, -0.7743,  1.3765],\n",
      "        [ 0.3320,  0.0276, -1.6227,  0.3256, -0.3506],\n",
      "        [-0.1191, -0.0183,  0.9328, -1.5924,  1.8704],\n",
      "        [ 0.0952, -0.8484,  0.4585, -0.6996,  0.0129],\n",
      "        [ 0.1481,  0.7436, -0.9027, -1.5715, -0.9465]], requires_grad=True)\n",
      "self.transitions ------>: Parameter containing:\n",
      "tensor([[-2.0531e+00,  1.5505e-01, -7.9837e-01, -7.7434e-01, -1.0000e+04],\n",
      "        [ 3.3201e-01,  2.7574e-02, -1.6227e+00,  3.2563e-01, -1.0000e+04],\n",
      "        [-1.1905e-01, -1.8328e-02,  9.3275e-01, -1.5924e+00, -1.0000e+04],\n",
      "        [-1.0000e+04, -1.0000e+04, -1.0000e+04, -1.0000e+04, -1.0000e+04],\n",
      "        [ 1.4810e-01,  7.4357e-01, -9.0270e-01, -1.5715e+00, -1.0000e+04]],\n",
      "       requires_grad=True)\n"
     ]
    }
   ],
   "source": [
    "transitions = nn.Parameter(torch.randn(5, 5))\n",
    "        \n",
    "print(\"self.transitions:\", transitions)\n",
    "\n",
    "# These two statements enforce the constraint that we never transfer\n",
    "# to the start tag and we never transfer from the stop tag\n",
    "transitions.data[3, :] = -10000\n",
    "transitions.data[:, 4] = -10000\n",
    "print(\"self.transitions ------>:\", transitions)"
   ]
  },
  {
   "cell_type": "code",
   "execution_count": 32,
   "metadata": {},
   "outputs": [
    {
     "data": {
      "text/plain": [
       "tensor([[-10000., -10000., -10000., -10000., -10000.]])"
      ]
     },
     "execution_count": 32,
     "metadata": {},
     "output_type": "execute_result"
    }
   ],
   "source": [
    "torch.full((1, 5), -10000.)"
   ]
  },
  {
   "cell_type": "code",
   "execution_count": null,
   "metadata": {},
   "outputs": [],
   "source": [
    "lstm_out.view(len(sentence), self.hidden_dim)"
   ]
  },
  {
   "cell_type": "code",
   "execution_count": 22,
   "metadata": {},
   "outputs": [],
   "source": [
    "x1 = torch.randn(10, 1, 4)\n",
    "x2 = torch.randn(2, 1, 2)"
   ]
  },
  {
   "cell_type": "code",
   "execution_count": 36,
   "metadata": {},
   "outputs": [
    {
     "data": {
      "text/plain": [
       "(torch.Size([10, 1, 4]), torch.Size([2, 1, 2]))"
      ]
     },
     "execution_count": 36,
     "metadata": {},
     "output_type": "execute_result"
    }
   ],
   "source": [
    "x1.size(), x2.size()"
   ]
  },
  {
   "cell_type": "code",
   "execution_count": 38,
   "metadata": {},
   "outputs": [
    {
     "data": {
      "text/plain": [
       "torch.Size([10, 4])"
      ]
     },
     "execution_count": 38,
     "metadata": {},
     "output_type": "execute_result"
    }
   ],
   "source": [
    "x1.view(10, 4).size()"
   ]
  },
  {
   "cell_type": "code",
   "execution_count": 60,
   "metadata": {},
   "outputs": [],
   "source": [
    "x_one = torch.tensor(0.2)"
   ]
  },
  {
   "cell_type": "code",
   "execution_count": 61,
   "metadata": {},
   "outputs": [
    {
     "data": {
      "text/plain": [
       "tensor(0.2000)"
      ]
     },
     "execution_count": 61,
     "metadata": {},
     "output_type": "execute_result"
    }
   ],
   "source": [
    "x_one"
   ]
  },
  {
   "cell_type": "code",
   "execution_count": 64,
   "metadata": {},
   "outputs": [
    {
     "data": {
      "text/plain": [
       "tensor([[0.2000, 0.2000, 0.2000, 0.2000, 0.2000]])"
      ]
     },
     "execution_count": 64,
     "metadata": {},
     "output_type": "execute_result"
    }
   ],
   "source": [
    "x_one.view(1, -1).expand(1, 5)"
   ]
  },
  {
   "cell_type": "code",
   "execution_count": null,
   "metadata": {},
   "outputs": [],
   "source": []
  }
 ],
 "metadata": {
  "kernelspec": {
   "display_name": "Python 3",
   "language": "python",
   "name": "python3"
  },
  "language_info": {
   "codemirror_mode": {
    "name": "ipython",
    "version": 3
   },
   "file_extension": ".py",
   "mimetype": "text/x-python",
   "name": "python",
   "nbconvert_exporter": "python",
   "pygments_lexer": "ipython3",
   "version": "3.6.9"
  }
 },
 "nbformat": 4,
 "nbformat_minor": 2
}
